{
  "nbformat": 4,
  "nbformat_minor": 0,
  "metadata": {
    "colab": {
      "name": "myproject.ipynb",
      "version": "0.3.2",
      "provenance": [],
      "collapsed_sections": [],
      "include_colab_link": true
    },
    "kernelspec": {
      "name": "python3",
      "display_name": "Python 3"
    },
    "accelerator": "GPU"
  },
  "cells": [
    {
      "cell_type": "markdown",
      "metadata": {
        "id": "view-in-github",
        "colab_type": "text"
      },
      "source": [
        "<a href=\"https://colab.research.google.com/github/luqadio/sample/blob/master/myproject.ipynb\" target=\"_parent\"><img src=\"https://colab.research.google.com/assets/colab-badge.svg\" alt=\"Open In Colab\"/></a>"
      ]
    },
    {
      "cell_type": "markdown",
      "metadata": {
        "id": "31GocVslf2IF",
        "colab_type": "text"
      },
      "source": [
        "##Don't close this browser tab while your project is running.\n",
        "\n",
        "**Run the code block below to start your Clouderizer project. **"
      ]
    },
    {
      "cell_type": "code",
      "metadata": {
        "id": "1rzBxzOrf2yX",
        "colab_type": "code",
        "outputId": "668b8324-9e7d-4c45-a53b-b5e52ca12d87",
        "colab": {
          "base_uri": "https://localhost:8080/",
          "height": 101
        }
      },
      "source": [
        "!curl -s \"https://console.clouderizer.com/givemeinitsh/IURpDyYu\" | bash"
      ],
      "execution_count": 0,
      "outputs": [
        {
          "output_type": "stream",
          "text": [
            "Great! Your Clouderizer project is initializing...it might take few minutes before it is ready.\n",
            "\n",
            "**************************************************************************************\n",
            "YOU SHOULD NOW SWITCH BACK TO CLOUDERIZER WEB PAGE TO START WORKING ON YOUR PROJECT\n",
            "**************************************************************************************\n"
          ],
          "name": "stdout"
        }
      ]
    },
    {
      "cell_type": "code",
      "metadata": {
        "id": "KttTJcMUsOx6",
        "colab_type": "code",
        "outputId": "47c6a847-a50b-471b-97a5-ac39979a9f45",
        "colab": {
          "base_uri": "https://localhost:8080/",
          "height": 35
        }
      },
      "source": [
        "from __future__ import print_function\n",
        "import numpy as np\n",
        "\n",
        "data1 = [1, 2, 3, 4, 5]  # it is creating a list\n",
        "arr1 = np.array(data1)   #its creating one dimentional arry from the created list(data1)\n",
        "data2 = [range(1, 5), range(5, 9)]  # its creating a list with two-D list\n",
        "arr2 = np.array(data2)  #its creating one dimentional arry from the created list(data3)\n",
        "arr2.tolist() # converting the array to list\n"
      ],
      "execution_count": 0,
      "outputs": [
        {
          "output_type": "execute_result",
          "data": {
            "text/plain": [
              "[[1, 2, 3, 4], [5, 6, 7, 8]]"
            ]
          },
          "metadata": {
            "tags": []
          },
          "execution_count": 3
        }
      ]
    },
    {
      "cell_type": "code",
      "metadata": {
        "id": "OJxsjLAZ6fNr",
        "colab_type": "code",
        "outputId": "37a75db6-119e-4ba9-f712-d05c20209887",
        "colab": {
          "base_uri": "https://localhost:8080/",
          "height": 35
        }
      },
      "source": [
        "np.zeros(10)"
      ],
      "execution_count": 0,
      "outputs": [
        {
          "output_type": "execute_result",
          "data": {
            "text/plain": [
              "array([0., 0., 0., 0., 0., 0., 0., 0., 0., 0.])"
            ]
          },
          "metadata": {
            "tags": []
          },
          "execution_count": 15
        }
      ]
    },
    {
      "cell_type": "code",
      "metadata": {
        "id": "Xy5HTXz_64ID",
        "colab_type": "code",
        "outputId": "67361d9b-eb65-49c9-81ca-774e66530968",
        "colab": {
          "base_uri": "https://localhost:8080/",
          "height": 72
        }
      },
      "source": [
        "# gives 2D array with 3 rows and 10 columns\n",
        "np.zeros((3,10))"
      ],
      "execution_count": 0,
      "outputs": [
        {
          "output_type": "execute_result",
          "data": {
            "text/plain": [
              "array([[0., 0., 0., 0., 0., 0., 0., 0., 0., 0.],\n",
              "       [0., 0., 0., 0., 0., 0., 0., 0., 0., 0.],\n",
              "       [0., 0., 0., 0., 0., 0., 0., 0., 0., 0.]])"
            ]
          },
          "metadata": {
            "tags": []
          },
          "execution_count": 16
        }
      ]
    },
    {
      "cell_type": "code",
      "metadata": {
        "id": "FMkvX2kY6_G2",
        "colab_type": "code",
        "outputId": "2aa9927f-ca12-486a-c417-3ffa5a4e9f58",
        "colab": {
          "base_uri": "https://localhost:8080/",
          "height": 34
        }
      },
      "source": [
        "np.ones(10) #Return a new array of ones"
      ],
      "execution_count": 0,
      "outputs": [
        {
          "output_type": "execute_result",
          "data": {
            "text/plain": [
              "array([1., 1., 1., 1., 1., 1., 1., 1., 1., 1.])"
            ]
          },
          "metadata": {
            "tags": []
          },
          "execution_count": 7
        }
      ]
    },
    {
      "cell_type": "code",
      "metadata": {
        "id": "8cWQkhbq7FQN",
        "colab_type": "code",
        "outputId": "36a6a959-c740-49fd-e17f-92f0a0975389",
        "colab": {
          "base_uri": "https://localhost:8080/",
          "height": 34
        }
      },
      "source": [
        "np.linspace(0,1,5) #Returns 5 values between 0-1 with evenly spaced interval"
      ],
      "execution_count": 0,
      "outputs": [
        {
          "output_type": "execute_result",
          "data": {
            "text/plain": [
              "array([0.  , 0.25, 0.5 , 0.75, 1.  ])"
            ]
          },
          "metadata": {
            "tags": []
          },
          "execution_count": 8
        }
      ]
    },
    {
      "cell_type": "code",
      "metadata": {
        "id": "onJaxA9U7I4j",
        "colab_type": "code",
        "outputId": "cf629ec7-ac5b-467a-ec6f-da53b64a9009",
        "colab": {
          "base_uri": "https://localhost:8080/",
          "height": 34
        }
      },
      "source": [
        "np.logspace(0,3,4) #Returns 5 values between 0-1 with linearly spaced interval"
      ],
      "execution_count": 0,
      "outputs": [
        {
          "output_type": "execute_result",
          "data": {
            "text/plain": [
              "array([   1.,   10.,  100., 1000.])"
            ]
          },
          "metadata": {
            "tags": []
          },
          "execution_count": 9
        }
      ]
    },
    {
      "cell_type": "code",
      "metadata": {
        "id": "TvJOqkxPBXQy",
        "colab_type": "code",
        "outputId": "61649126-485e-403f-a0c8-57d55430ded2",
        "colab": {
          "base_uri": "https://localhost:8080/",
          "height": 34
        }
      },
      "source": [
        "int_array= np.arange(5)     #it creats an array from 0 to 4\n",
        "int_array\n",
        "float_array= int_array.astype(float) # it converts the created array type from int to float \n",
        "change_float\n",
        "float_array"
      ],
      "execution_count": 0,
      "outputs": [
        {
          "output_type": "execute_result",
          "data": {
            "text/plain": [
              "array([0., 1., 2., 3., 4.])"
            ]
          },
          "metadata": {
            "tags": []
          },
          "execution_count": 10
        }
      ]
    },
    {
      "cell_type": "code",
      "metadata": {
        "id": "YZoxplM1BlX5",
        "colab_type": "code",
        "outputId": "1bbce826-29e4-4b8d-d13c-378d55394106",
        "colab": {
          "base_uri": "https://localhost:8080/",
          "height": 34
        }
      },
      "source": [
        "arr1.dtype #gives the datatype\n",
        "arr2.dtype #gives the datatype"
      ],
      "execution_count": 0,
      "outputs": [
        {
          "output_type": "execute_result",
          "data": {
            "text/plain": [
              "dtype('int64')"
            ]
          },
          "metadata": {
            "tags": []
          },
          "execution_count": 11
        }
      ]
    },
    {
      "cell_type": "code",
      "metadata": {
        "id": "ailSZLgPBuEc",
        "colab_type": "code",
        "outputId": "e7286486-c773-4bba-dcc6-17a821f8d84a",
        "colab": {
          "base_uri": "https://localhost:8080/",
          "height": 34
        }
      },
      "source": [
        "arr1.ndim #gives the dimension"
      ],
      "execution_count": 0,
      "outputs": [
        {
          "output_type": "execute_result",
          "data": {
            "text/plain": [
              "1"
            ]
          },
          "metadata": {
            "tags": []
          },
          "execution_count": 12
        }
      ]
    },
    {
      "cell_type": "code",
      "metadata": {
        "id": "Jz2fg_FrB0n1",
        "colab_type": "code",
        "outputId": "a87f277a-d29e-414b-f011-6116ddc2a32c",
        "colab": {
          "base_uri": "https://localhost:8080/",
          "height": 35
        }
      },
      "source": [
        "arr2.size #gives the size"
      ],
      "execution_count": 0,
      "outputs": [
        {
          "output_type": "execute_result",
          "data": {
            "text/plain": [
              "8"
            ]
          },
          "metadata": {
            "tags": []
          },
          "execution_count": 9
        }
      ]
    },
    {
      "cell_type": "code",
      "metadata": {
        "id": "PKe0gucuB26d",
        "colab_type": "code",
        "outputId": "3d7da676-b361-4e28-8a26-42a592dd5641",
        "colab": {
          "base_uri": "https://localhost:8080/",
          "height": 35
        }
      },
      "source": [
        "arr2.shape #gives the shape(number of row and column)"
      ],
      "execution_count": 0,
      "outputs": [
        {
          "output_type": "execute_result",
          "data": {
            "text/plain": [
              "(2, 4)"
            ]
          },
          "metadata": {
            "tags": []
          },
          "execution_count": 10
        }
      ]
    },
    {
      "cell_type": "code",
      "metadata": {
        "id": "woC2sOmGB9-P",
        "colab_type": "code",
        "outputId": "30c7879b-cf66-4016-bf5f-4df4141548f0",
        "colab": {
          "base_uri": "https://localhost:8080/",
          "height": 34
        }
      },
      "source": [
        "len(arr2) #gives the total number of elements"
      ],
      "execution_count": 0,
      "outputs": [
        {
          "output_type": "execute_result",
          "data": {
            "text/plain": [
              "2"
            ]
          },
          "metadata": {
            "tags": []
          },
          "execution_count": 15
        }
      ]
    },
    {
      "cell_type": "code",
      "metadata": {
        "id": "ksyfRuhkCKXj",
        "colab_type": "code",
        "outputId": "c4d57479-dddf-42ef-c875-a496063211be",
        "colab": {
          "base_uri": "https://localhost:8080/",
          "height": 54
        }
      },
      "source": [
        "arr= np.arange(10,dtype=float).reshape((2,5)) #arranges the number from 0-10 and the type is float and reshaping it into 2 rows and 5 coloums\n",
        "arr"
      ],
      "execution_count": 0,
      "outputs": [
        {
          "output_type": "execute_result",
          "data": {
            "text/plain": [
              "array([[0., 1., 2., 3., 4.],\n",
              "       [5., 6., 7., 8., 9.]])"
            ]
          },
          "metadata": {
            "tags": []
          },
          "execution_count": 8
        }
      ]
    },
    {
      "cell_type": "code",
      "metadata": {
        "id": "TTmQvwPiCRrP",
        "colab_type": "code",
        "outputId": "1181c306-a9fe-4c4c-dd1f-8d25170391d4",
        "colab": {
          "base_uri": "https://localhost:8080/",
          "height": 101
        }
      },
      "source": [
        "print(arr.reshape(5,2)) #it is used for reshaping the dimension of the array"
      ],
      "execution_count": 0,
      "outputs": [
        {
          "output_type": "stream",
          "text": [
            "[[0. 1.]\n",
            " [2. 3.]\n",
            " [4. 5.]\n",
            " [6. 7.]\n",
            " [8. 9.]]\n"
          ],
          "name": "stdout"
        }
      ]
    },
    {
      "cell_type": "code",
      "metadata": {
        "id": "VTyHUWZFCYUL",
        "colab_type": "code",
        "outputId": "c170adbc-e389-4387-d7d0-8b3d8e8b53b0",
        "colab": {
          "base_uri": "https://localhost:8080/",
          "height": 50
        }
      },
      "source": [
        "a= np.array([0,1])\n",
        "a_col= a[:,np.newaxis] #changes row into column\n",
        "p\n",
        "print(a_col)\n",
        "a_col= a[:,None]"
      ],
      "execution_count": 0,
      "outputs": [
        {
          "output_type": "stream",
          "text": [
            "[[0]\n",
            " [1]]\n"
          ],
          "name": "stdout"
        }
      ]
    },
    {
      "cell_type": "code",
      "metadata": {
        "id": "4G-qKPlvChSe",
        "colab_type": "code",
        "outputId": "401ff075-c3a8-4bb5-ccbd-d8bc01f5320c",
        "colab": {
          "base_uri": "https://localhost:8080/",
          "height": 34
        }
      },
      "source": [
        "arr_flt= arr.flatten() #flattens a array in 1D\n",
        "arr_flt"
      ],
      "execution_count": 0,
      "outputs": [
        {
          "output_type": "execute_result",
          "data": {
            "text/plain": [
              "array([0., 1., 2., 3., 4., 5., 6., 7., 8., 9.])"
            ]
          },
          "metadata": {
            "tags": []
          },
          "execution_count": 19
        }
      ]
    },
    {
      "cell_type": "code",
      "metadata": {
        "id": "zwlf5En-Dlcp",
        "colab_type": "code",
        "outputId": "fd981931-9345-4f87-8e46-031e74d8c1d9",
        "colab": {
          "base_uri": "https://localhost:8080/",
          "height": 50
        }
      },
      "source": [
        "a= np.array([0,1])\n",
        "b=np.array([2,3])\n",
        "ab= np.stack((a,b)) #stacks and transposes\n",
        "print(ab)"
      ],
      "execution_count": 0,
      "outputs": [
        {
          "output_type": "stream",
          "text": [
            "[[0 1]\n",
            " [2 3]]\n"
          ],
          "name": "stdout"
        }
      ]
    },
    {
      "cell_type": "code",
      "metadata": {
        "id": "QdeI79xuDrZW",
        "colab_type": "code",
        "outputId": "ccea4c90-61a4-45da-95f7-beb244269ae0",
        "colab": {
          "base_uri": "https://localhost:8080/",
          "height": 67
        }
      },
      "source": [
        "arr= np.arange(9, dtype=float).reshape((3,3))\n",
        "print(arr)"
      ],
      "execution_count": 0,
      "outputs": [
        {
          "output_type": "stream",
          "text": [
            "[[0. 1. 2.]\n",
            " [3. 4. 5.]\n",
            " [6. 7. 8.]]\n"
          ],
          "name": "stdout"
        }
      ]
    },
    {
      "cell_type": "code",
      "metadata": {
        "id": "tq79jOVSDyXE",
        "colab_type": "code",
        "outputId": "0c33f45e-800b-4d83-a0e2-bc8e3ce565f9",
        "colab": {
          "base_uri": "https://localhost:8080/",
          "height": 50
        }
      },
      "source": [
        "print(arr[0,2]) #prints the 2nd coloumn in the 0th row\n",
        "print(arr[1][2]) #prints the 2nd coloumn in the 0th row"
      ],
      "execution_count": 0,
      "outputs": [
        {
          "output_type": "stream",
          "text": [
            "2.0\n",
            "5.0\n"
          ],
          "name": "stdout"
        }
      ]
    },
    {
      "cell_type": "code",
      "metadata": {
        "id": "_mIgydCPD6uL",
        "colab_type": "code",
        "outputId": "23a6b39d-8137-45ae-d7e0-c35fc964b2df",
        "colab": {
          "base_uri": "https://localhost:8080/",
          "height": 151
        }
      },
      "source": [
        "print(arr[0,:]) # it return row 0\n",
        "print(arr[:,0]) # it return column 0\n",
        "print(arr[:,:2]) # its printing the column befor index 2 \n",
        "print(arr[0:2,1:]) # its printing first from 2nd column to the last \n",
        "print(arr[1:,:-1])  # it printing from row 1 to 4 reversing the column arraingment"
      ],
      "execution_count": 0,
      "outputs": [
        {
          "output_type": "stream",
          "text": [
            "[0. 1. 2.]\n",
            "[0. 3. 6.]\n",
            "[[3. 4.]\n",
            " [6. 7.]]\n",
            "[[1. 2.]\n",
            " [4. 5.]]\n",
            "[[3. 4.]\n",
            " [6. 7.]]\n"
          ],
          "name": "stdout"
        }
      ]
    },
    {
      "cell_type": "code",
      "metadata": {
        "id": "sX9lexsAEiw9",
        "colab_type": "code",
        "outputId": "a09103b4-b316-4eea-d3a3-ab47a1e0d0f6",
        "colab": {
          "base_uri": "https://localhost:8080/",
          "height": 84
        }
      },
      "source": [
        "arr= np.arange(16).reshape(4,4) #shape the array to 4 by 4\n",
        "arr"
      ],
      "execution_count": 0,
      "outputs": [
        {
          "output_type": "execute_result",
          "data": {
            "text/plain": [
              "array([[ 0,  1,  2,  3],\n",
              "       [ 4,  5,  6,  7],\n",
              "       [ 8,  9, 10, 11],\n",
              "       [12, 13, 14, 15]])"
            ]
          },
          "metadata": {
            "tags": []
          },
          "execution_count": 24
        }
      ]
    },
    {
      "cell_type": "code",
      "metadata": {
        "id": "3-Iq-FG-Eybm",
        "colab_type": "code",
        "outputId": "4e5e755f-9fe9-412b-e205-c7cb88c45ff4",
        "colab": {
          "base_uri": "https://localhost:8080/",
          "height": 50
        }
      },
      "source": [
        "arr[1:3,1:3] #slicing 1st and 2nd row of 1st and 2nd column  "
      ],
      "execution_count": 0,
      "outputs": [
        {
          "output_type": "execute_result",
          "data": {
            "text/plain": [
              "array([[ 5,  6],\n",
              "       [ 9, 10]])"
            ]
          },
          "metadata": {
            "tags": []
          },
          "execution_count": 25
        }
      ]
    },
    {
      "cell_type": "code",
      "metadata": {
        "id": "NhEB-8OrExvl",
        "colab_type": "code",
        "outputId": "70cb73f3-1ece-4082-b6dd-d1aebec244ff",
        "colab": {
          "base_uri": "https://localhost:8080/",
          "height": 50
        }
      },
      "source": [
        "my_arr= np.array([[1,2,3],[5,6,7]]) \n",
        "my_arr"
      ],
      "execution_count": 0,
      "outputs": [
        {
          "output_type": "execute_result",
          "data": {
            "text/plain": [
              "array([[1, 2, 3],\n",
              "       [5, 6, 7]])"
            ]
          },
          "metadata": {
            "tags": []
          },
          "execution_count": 26
        }
      ]
    },
    {
      "cell_type": "code",
      "metadata": {
        "id": "j3Xe0sr0FWeY",
        "colab_type": "code",
        "outputId": "8ff0f800-c5db-4631-da3d-98c14ba97e5e",
        "colab": {
          "base_uri": "https://localhost:8080/",
          "height": 50
        }
      },
      "source": [
        "a=np.array([1,2])\n",
        "b=np.array([3,4])\n",
        "ab= np.stack((a,b)).T #stacks and transposes\n",
        "ab"
      ],
      "execution_count": 0,
      "outputs": [
        {
          "output_type": "execute_result",
          "data": {
            "text/plain": [
              "array([[1, 3],\n",
              "       [2, 4]])"
            ]
          },
          "metadata": {
            "tags": []
          },
          "execution_count": 27
        }
      ]
    },
    {
      "cell_type": "code",
      "metadata": {
        "id": "R9muVgbtFbgt",
        "colab_type": "code",
        "outputId": "65d68729-18bb-4cd6-9d05-5795def6abe8",
        "colab": {
          "base_uri": "https://localhost:8080/",
          "height": 34
        }
      },
      "source": [
        "arr[0,::-1] )#reversing the list of zeroth coloumn"
      ],
      "execution_count": 0,
      "outputs": [
        {
          "output_type": "execute_result",
          "data": {
            "text/plain": [
              "array([3, 2, 1, 0])"
            ]
          },
          "metadata": {
            "tags": []
          },
          "execution_count": 28
        }
      ]
    },
    {
      "cell_type": "code",
      "metadata": {
        "id": "xkoQk7zBFbD0",
        "colab_type": "code",
        "colab": {}
      },
      "source": [
        "arr_1= arr[arr>10] #checking if the valyes in array 1 is greater than five and prints it into a single list\n",
        "arr_1 "
      ],
      "execution_count": 0,
      "outputs": []
    },
    {
      "cell_type": "code",
      "metadata": {
        "id": "5EprKv1DFanW",
        "colab_type": "code",
        "colab": {}
      },
      "source": [
        "names= np.array(['Bob','Janny','Herry','Joey']) "
      ],
      "execution_count": 0,
      "outputs": []
    },
    {
      "cell_type": "code",
      "metadata": {
        "id": "GZCi30vLFaMT",
        "colab_type": "code",
        "outputId": "aee7f940-348c-4216-f09d-f7b431bb0d3c",
        "colab": {
          "base_uri": "https://localhost:8080/",
          "height": 35
        }
      },
      "source": [
        "names=='Bob'"
      ],
      "execution_count": 0,
      "outputs": [
        {
          "output_type": "execute_result",
          "data": {
            "text/plain": [
              "array([ True, False, False, False])"
            ]
          },
          "metadata": {
            "tags": []
          },
          "execution_count": 13
        }
      ]
    },
    {
      "cell_type": "code",
      "metadata": {
        "id": "4C7w6WLsF_R7",
        "colab_type": "code",
        "outputId": "8e35a1bd-1835-48b4-cc23-2cabb38e6461",
        "colab": {
          "base_uri": "https://localhost:8080/",
          "height": 35
        }
      },
      "source": [
        "(names == 'Bob')|(names== 'Joey')"
      ],
      "execution_count": 0,
      "outputs": [
        {
          "output_type": "execute_result",
          "data": {
            "text/plain": [
              "array([ True, False, False,  True])"
            ]
          },
          "metadata": {
            "tags": []
          },
          "execution_count": 14
        }
      ]
    },
    {
      "cell_type": "code",
      "metadata": {
        "id": "38gcTcS7FZsL",
        "colab_type": "code",
        "outputId": "87c3c853-04f0-43d2-b401-1c2c9f4d6ba3",
        "colab": {
          "base_uri": "https://localhost:8080/",
          "height": 34
        }
      },
      "source": [
        "names[names!='Bob']"
      ],
      "execution_count": 0,
      "outputs": [
        {
          "output_type": "execute_result",
          "data": {
            "text/plain": [
              "array(['Janny', 'Herry', 'Joey'], dtype='<U5')"
            ]
          },
          "metadata": {
            "tags": []
          },
          "execution_count": 32
        }
      ]
    },
    {
      "cell_type": "code",
      "metadata": {
        "id": "TTfv1mY9FZMc",
        "colab_type": "code",
        "outputId": "48eb76ad-83a0-4edf-eb4f-92131b533406",
        "colab": {
          "base_uri": "https://localhost:8080/",
          "height": 34
        }
      },
      "source": [
        "names[names!='Bob']= 'Joey'\n",
        "names"
      ],
      "execution_count": 0,
      "outputs": [
        {
          "output_type": "execute_result",
          "data": {
            "text/plain": [
              "array(['Bob', 'Joey', 'Joey', 'Joey'], dtype='<U5')"
            ]
          },
          "metadata": {
            "tags": []
          },
          "execution_count": 34
        }
      ]
    },
    {
      "cell_type": "code",
      "metadata": {
        "id": "Iy5w02GFGME4",
        "colab_type": "code",
        "outputId": "24a0d2cc-a551-4fe0-ca67-b9780c8c99e1",
        "colab": {
          "base_uri": "https://localhost:8080/",
          "height": 34
        }
      },
      "source": [
        "np.unique(names)"
      ],
      "execution_count": 0,
      "outputs": [
        {
          "output_type": "execute_result",
          "data": {
            "text/plain": [
              "array(['Bob', 'Joey'], dtype='<U5')"
            ]
          },
          "metadata": {
            "tags": []
          },
          "execution_count": 35
        }
      ]
    },
    {
      "cell_type": "code",
      "metadata": {
        "id": "AM7pHQ8_GOge",
        "colab_type": "code",
        "outputId": "22a10a44-6a87-4e15-c02f-8e7872c62a79",
        "colab": {
          "base_uri": "https://localhost:8080/",
          "height": 34
        }
      },
      "source": [
        "nums= np.arange(5)  # it will add the two array element wise\n",
        "nums"
      ],
      "execution_count": 0,
      "outputs": [
        {
          "output_type": "execute_result",
          "data": {
            "text/plain": [
              "array([0, 1, 2, 3, 4])"
            ]
          },
          "metadata": {
            "tags": []
          },
          "execution_count": 36
        }
      ]
    },
    {
      "cell_type": "code",
      "metadata": {
        "id": "PwtgFlOYGN_7",
        "colab_type": "code",
        "outputId": "f33f0c09-d38c-49e2-cffc-191930fd9291",
        "colab": {
          "base_uri": "https://localhost:8080/",
          "height": 34
        }
      },
      "source": [
        "nums*10"
      ],
      "execution_count": 0,
      "outputs": [
        {
          "output_type": "execute_result",
          "data": {
            "text/plain": [
              "array([ 0, 10, 20, 30, 40])"
            ]
          },
          "metadata": {
            "tags": []
          },
          "execution_count": 37
        }
      ]
    },
    {
      "cell_type": "code",
      "metadata": {
        "id": "3Ow6O8JyGNaD",
        "colab_type": "code",
        "outputId": "a4b776b9-e99d-484e-e72b-cb78aea592df",
        "colab": {
          "base_uri": "https://localhost:8080/",
          "height": 34
        }
      },
      "source": [
        "nums= np.sqrt(nums)\n",
        "nums"
      ],
      "execution_count": 0,
      "outputs": [
        {
          "output_type": "execute_result",
          "data": {
            "text/plain": [
              "array([0.        , 1.        , 1.41421356, 1.73205081, 2.        ])"
            ]
          },
          "metadata": {
            "tags": []
          },
          "execution_count": 38
        }
      ]
    },
    {
      "cell_type": "code",
      "metadata": {
        "id": "LirnGbeJGgp7",
        "colab_type": "code",
        "outputId": "c05a0d80-4b58-49b1-81e7-5e9f9ebbba10",
        "colab": {
          "base_uri": "https://localhost:8080/",
          "height": 34
        }
      },
      "source": [
        "np.ceil(nums)"
      ],
      "execution_count": 0,
      "outputs": [
        {
          "output_type": "execute_result",
          "data": {
            "text/plain": [
              "array([0., 1., 2., 2., 2.])"
            ]
          },
          "metadata": {
            "tags": []
          },
          "execution_count": 39
        }
      ]
    },
    {
      "cell_type": "code",
      "metadata": {
        "id": "GEljtTLHGgBa",
        "colab_type": "code",
        "outputId": "d0ec4f2d-771a-476e-c812-5db5a52e6448",
        "colab": {
          "base_uri": "https://localhost:8080/",
          "height": 34
        }
      },
      "source": [
        "np.isnan(nums)"
      ],
      "execution_count": 0,
      "outputs": [
        {
          "output_type": "execute_result",
          "data": {
            "text/plain": [
              "array([False, False, False, False, False])"
            ]
          },
          "metadata": {
            "tags": []
          },
          "execution_count": 40
        }
      ]
    },
    {
      "cell_type": "code",
      "metadata": {
        "id": "VnSt_0U7GfK1",
        "colab_type": "code",
        "outputId": "5b1e6fef-55dd-4df5-96c3-d2c40cb34a10",
        "colab": {
          "base_uri": "https://localhost:8080/",
          "height": 34
        }
      },
      "source": [
        "nums+np.arange(5)"
      ],
      "execution_count": 0,
      "outputs": [
        {
          "output_type": "execute_result",
          "data": {
            "text/plain": [
              "array([0.        , 2.        , 3.41421356, 4.73205081, 6.        ])"
            ]
          },
          "metadata": {
            "tags": []
          },
          "execution_count": 41
        }
      ]
    },
    {
      "cell_type": "code",
      "metadata": {
        "id": "pLDvzx8kGuiX",
        "colab_type": "code",
        "outputId": "ed0670ca-a210-4a73-9a14-15a9724158fa",
        "colab": {
          "base_uri": "https://localhost:8080/",
          "height": 34
        }
      },
      "source": [
        "np.ceil(nums)"
      ],
      "execution_count": 0,
      "outputs": [
        {
          "output_type": "execute_result",
          "data": {
            "text/plain": [
              "array([0., 1., 2., 2., 2.])"
            ]
          },
          "metadata": {
            "tags": []
          },
          "execution_count": 42
        }
      ]
    },
    {
      "cell_type": "code",
      "metadata": {
        "id": "921CVkcBGt9-",
        "colab_type": "code",
        "outputId": "144e75e0-bc30-40eb-9dc6-7fba2b7bf844",
        "colab": {
          "base_uri": "https://localhost:8080/",
          "height": 34
        }
      },
      "source": [
        "np.maximum(nums,np.array([1,-2,3,-4,5]))"
      ],
      "execution_count": 0,
      "outputs": [
        {
          "output_type": "execute_result",
          "data": {
            "text/plain": [
              "array([1.        , 1.        , 3.        , 1.73205081, 5.        ])"
            ]
          },
          "metadata": {
            "tags": []
          },
          "execution_count": 43
        }
      ]
    },
    {
      "cell_type": "code",
      "metadata": {
        "id": "-Zs1dP9WGthd",
        "colab_type": "code",
        "outputId": "c80242cf-0034-4d0a-aaeb-cc1f92dab55a",
        "colab": {
          "base_uri": "https://localhost:8080/",
          "height": 50
        }
      },
      "source": [
        "vec1=np.random.randn(10)\n",
        "vec1"
      ],
      "execution_count": 0,
      "outputs": [
        {
          "output_type": "execute_result",
          "data": {
            "text/plain": [
              "array([-0.97413155,  0.9492524 ,  0.98877408, -0.73666721,  0.72037296,\n",
              "        0.51883917,  0.06324399, -1.12876748,  0.56261509,  0.16592566])"
            ]
          },
          "metadata": {
            "tags": []
          },
          "execution_count": 44
        }
      ]
    },
    {
      "cell_type": "code",
      "metadata": {
        "id": "IYVQBMIVGtAW",
        "colab_type": "code",
        "outputId": "d9d589ae-be15-4d66-b986-22fb26ec9052",
        "colab": {
          "base_uri": "https://localhost:8080/",
          "height": 50
        }
      },
      "source": [
        "vec2=np.random.randn(10)\n",
        "vec2"
      ],
      "execution_count": 0,
      "outputs": [
        {
          "output_type": "execute_result",
          "data": {
            "text/plain": [
              "array([-0.97112017, -0.17502679, -1.01487049,  0.38480384,  0.66004436,\n",
              "       -1.16392715,  1.54035836, -0.63804146, -0.07620413,  0.28404346])"
            ]
          },
          "metadata": {
            "tags": []
          },
          "execution_count": 45
        }
      ]
    },
    {
      "cell_type": "code",
      "metadata": {
        "id": "FGczlZ1lGsiv",
        "colab_type": "code",
        "outputId": "da8945a1-6756-4008-eba5-fb9a7131f3f3",
        "colab": {
          "base_uri": "https://localhost:8080/",
          "height": 34
        }
      },
      "source": [
        "np.sqrt(np.sum((vec1-vec2)**2))"
      ],
      "execution_count": 0,
      "outputs": [
        {
          "output_type": "execute_result",
          "data": {
            "text/plain": [
              "3.4951916066032367"
            ]
          },
          "metadata": {
            "tags": []
          },
          "execution_count": 46
        }
      ]
    },
    {
      "cell_type": "code",
      "metadata": {
        "id": "zAJF01wxGsBW",
        "colab_type": "code",
        "outputId": "7667a899-7c81-4995-a075-4c6b4fe6ffd1",
        "colab": {
          "base_uri": "https://localhost:8080/",
          "height": 84
        }
      },
      "source": [
        "rnd= np.random.randn(4,2)\n",
        "rnd"
      ],
      "execution_count": 0,
      "outputs": [
        {
          "output_type": "execute_result",
          "data": {
            "text/plain": [
              "array([[-1.16617841, -0.37895435],\n",
              "       [ 0.29271618, -1.28853118],\n",
              "       [-1.19895837,  1.40694396],\n",
              "       [-0.90541268, -2.32816739]])"
            ]
          },
          "metadata": {
            "tags": []
          },
          "execution_count": 47
        }
      ]
    },
    {
      "cell_type": "code",
      "metadata": {
        "id": "L7gChYWYHOPn",
        "colab_type": "code",
        "outputId": "fde1f323-c709-4d45-8a53-e9b9e4fa4ffc",
        "colab": {
          "base_uri": "https://localhost:8080/",
          "height": 34
        }
      },
      "source": [
        "rnd.mean()"
      ],
      "execution_count": 0,
      "outputs": [
        {
          "output_type": "execute_result",
          "data": {
            "text/plain": [
              "-0.6958177793736349"
            ]
          },
          "metadata": {
            "tags": []
          },
          "execution_count": 48
        }
      ]
    },
    {
      "cell_type": "code",
      "metadata": {
        "id": "ARydIkaeHN1k",
        "colab_type": "code",
        "outputId": "f323e66f-e898-4356-8010-f4b24f05b55f",
        "colab": {
          "base_uri": "https://localhost:8080/",
          "height": 34
        }
      },
      "source": [
        "rnd.std()"
      ],
      "execution_count": 0,
      "outputs": [
        {
          "output_type": "execute_result",
          "data": {
            "text/plain": [
              "1.0626266274627485"
            ]
          },
          "metadata": {
            "tags": []
          },
          "execution_count": 49
        }
      ]
    },
    {
      "cell_type": "code",
      "metadata": {
        "id": "mwXOL-84HNYD",
        "colab_type": "code",
        "outputId": "0a1e5c8f-4c07-41af-9ad3-8a98f6be9768",
        "colab": {
          "base_uri": "https://localhost:8080/",
          "height": 34
        }
      },
      "source": [
        "rnd.argmin()"
      ],
      "execution_count": 0,
      "outputs": [
        {
          "output_type": "execute_result",
          "data": {
            "text/plain": [
              "7"
            ]
          },
          "metadata": {
            "tags": []
          },
          "execution_count": 50
        }
      ]
    },
    {
      "cell_type": "code",
      "metadata": {
        "id": "_Uwz5D1pHM3p",
        "colab_type": "code",
        "outputId": "12019110-e4de-47eb-f3a3-6ae6bd8c42b9",
        "colab": {
          "base_uri": "https://localhost:8080/",
          "height": 34
        }
      },
      "source": [
        "rnd.sum(axis=0)"
      ],
      "execution_count": 0,
      "outputs": [
        {
          "output_type": "execute_result",
          "data": {
            "text/plain": [
              "array([-2.97783328, -2.58870896])"
            ]
          },
          "metadata": {
            "tags": []
          },
          "execution_count": 51
        }
      ]
    },
    {
      "cell_type": "code",
      "metadata": {
        "id": "OMm9gFAxHx8T",
        "colab_type": "code",
        "outputId": "b71946a3-adb2-4a22-9ece-e4f22a05eda6",
        "colab": {
          "base_uri": "https://localhost:8080/",
          "height": 34
        }
      },
      "source": [
        "rnd.sum(axis=1)"
      ],
      "execution_count": 0,
      "outputs": [
        {
          "output_type": "execute_result",
          "data": {
            "text/plain": [
              "array([-1.54513276, -0.995815  ,  0.20798559, -3.23358007])"
            ]
          },
          "metadata": {
            "tags": []
          },
          "execution_count": 52
        }
      ]
    },
    {
      "cell_type": "code",
      "metadata": {
        "id": "LHa2rLvYHxcP",
        "colab_type": "code",
        "outputId": "f60de994-7e3a-4941-8309-36a2474dda3b",
        "colab": {
          "base_uri": "https://localhost:8080/",
          "height": 34
        }
      },
      "source": [
        "(rnd>0).sum()"
      ],
      "execution_count": 0,
      "outputs": [
        {
          "output_type": "execute_result",
          "data": {
            "text/plain": [
              "2"
            ]
          },
          "metadata": {
            "tags": []
          },
          "execution_count": 53
        }
      ]
    },
    {
      "cell_type": "code",
      "metadata": {
        "id": "Iy4Nwl0MHw8U",
        "colab_type": "code",
        "outputId": "6aeb18bf-99a4-4a5a-d6c3-45a7a1954646",
        "colab": {
          "base_uri": "https://localhost:8080/",
          "height": 34
        }
      },
      "source": [
        "(rnd>0).any()"
      ],
      "execution_count": 0,
      "outputs": [
        {
          "output_type": "execute_result",
          "data": {
            "text/plain": [
              "True"
            ]
          },
          "metadata": {
            "tags": []
          },
          "execution_count": 54
        }
      ]
    },
    {
      "cell_type": "code",
      "metadata": {
        "id": "p-nCUYziHwg0",
        "colab_type": "code",
        "outputId": "7b1a9229-1ae2-454b-d86c-90e0a789166e",
        "colab": {
          "base_uri": "https://localhost:8080/",
          "height": 34
        }
      },
      "source": [
        "(rnd>0).all()"
      ],
      "execution_count": 0,
      "outputs": [
        {
          "output_type": "execute_result",
          "data": {
            "text/plain": [
              "False"
            ]
          },
          "metadata": {
            "tags": []
          },
          "execution_count": 55
        }
      ]
    },
    {
      "cell_type": "code",
      "metadata": {
        "id": "4l5jYzAJHwEO",
        "colab_type": "code",
        "outputId": "026a8fd3-f2ab-4638-dd2d-903c90981657",
        "colab": {
          "base_uri": "https://localhost:8080/",
          "height": 50
        }
      },
      "source": [
        "np.random.seed(12233)\n",
        "np.random.rand(2,3)"
      ],
      "execution_count": 0,
      "outputs": [
        {
          "output_type": "execute_result",
          "data": {
            "text/plain": [
              "array([[0.05365932, 0.5235968 , 0.29504019],\n",
              "       [0.91849674, 0.38277192, 0.74727789]])"
            ]
          },
          "metadata": {
            "tags": []
          },
          "execution_count": 56
        }
      ]
    },
    {
      "cell_type": "code",
      "metadata": {
        "id": "GnVVPIREHvbd",
        "colab_type": "code",
        "outputId": "77be2978-eebe-4478-d4ae-37f331bb3104",
        "colab": {
          "base_uri": "https://localhost:8080/",
          "height": 50
        }
      },
      "source": [
        "np.random.randn(10) "
      ],
      "execution_count": 0,
      "outputs": [
        {
          "output_type": "execute_result",
          "data": {
            "text/plain": [
              "array([-0.90916109, -0.56930955,  1.14157433, -2.3529997 , -0.58003993,\n",
              "        0.48227429, -0.77438052, -0.27171243,  0.98577908, -1.54014205])"
            ]
          },
          "metadata": {
            "tags": []
          },
          "execution_count": 57
        }
      ]
    },
    {
      "cell_type": "code",
      "metadata": {
        "id": "CveytYAFINy7",
        "colab_type": "code",
        "outputId": "a783cf48-8d6e-4c0b-f73a-16ed08aa0e01",
        "colab": {
          "base_uri": "https://localhost:8080/",
          "height": 35
        }
      },
      "source": [
        "np.random.randint(0,100,10) # return an array of 10 elements in range 0 to 100 randomly"
      ],
      "execution_count": 0,
      "outputs": [
        {
          "output_type": "execute_result",
          "data": {
            "text/plain": [
              "array([66, 18, 67, 46, 39, 62, 18, 40, 98, 49])"
            ]
          },
          "metadata": {
            "tags": []
          },
          "execution_count": 6
        }
      ]
    },
    {
      "cell_type": "code",
      "metadata": {
        "id": "KDPtNRThIYGz",
        "colab_type": "code",
        "outputId": "d2783bea-739c-4462-cb9d-8a000da33098",
        "colab": {
          "base_uri": "https://localhost:8080/",
          "height": 84
        }
      },
      "source": [
        "a=np.array([[0,0,0],[10,10,10],[20,20,20],[30,30,30]]) # add 2D with 1D array will make a array of bigger size of array\n",
        "b=np.array([0,1,2])   # 1D array\n",
        "a+b  # give output with addeding elements of 1D array and 2D array"
      ],
      "execution_count": 0,
      "outputs": [
        {
          "output_type": "execute_result",
          "data": {
            "text/plain": [
              "array([[ 0,  1,  2],\n",
              "       [10, 11, 12],\n",
              "       [20, 21, 22],\n",
              "       [30, 31, 32]])"
            ]
          },
          "metadata": {
            "tags": []
          },
          "execution_count": 61
        }
      ]
    },
    {
      "cell_type": "code",
      "metadata": {
        "id": "xT2qxH9NIXkU",
        "colab_type": "code",
        "outputId": "934eba17-695c-4538-ce49-8e2ed5f054ce",
        "colab": {
          "base_uri": "https://localhost:8080/",
          "height": 91
        }
      },
      "source": [
        "X= np.random.randn(4,2)  # Array of given paramenter size with random values\n",
        "X"
      ],
      "execution_count": 0,
      "outputs": [
        {
          "output_type": "execute_result",
          "data": {
            "text/plain": [
              "array([[-0.23821285, -0.32263062],\n",
              "       [-1.09940501, -1.96849306],\n",
              "       [-0.23409331, -1.25442909],\n",
              "       [ 0.57297594,  0.88439849]])"
            ]
          },
          "metadata": {
            "tags": []
          },
          "execution_count": 5
        }
      ]
    },
    {
      "cell_type": "code",
      "metadata": {
        "id": "DPsSxSLvIXDu",
        "colab_type": "code",
        "outputId": "ac62328b-23a0-4a7a-df07-4459869648a3",
        "colab": {
          "base_uri": "https://localhost:8080/",
          "height": 34
        }
      },
      "source": [
        "min_va= X.min(axis=0)\n",
        "min_in=np.where(X.min(axis=0))\n",
        "min_in"
      ],
      "execution_count": 0,
      "outputs": [
        {
          "output_type": "execute_result",
          "data": {
            "text/plain": [
              "(array([0, 1]),)"
            ]
          },
          "metadata": {
            "tags": []
          },
          "execution_count": 63
        }
      ]
    },
    {
      "cell_type": "code",
      "metadata": {
        "id": "vgYDdYzMIWkp",
        "colab_type": "code",
        "outputId": "c6dd828c-ae36-4c86-d2d9-ca1e9258e57f",
        "colab": {
          "base_uri": "https://localhost:8080/",
          "height": 128
        }
      },
      "source": [
        "def standarized(X):      \n",
        "    x_norm= (X-np.mean(X))/np.std(X)\n",
        "    return x_norm\n",
        "\n",
        "xx=np.array([[1,2,3],[4,5,6],[7,8,9]])\n",
        "print(xx)\n",
        "standarized(xx)"
      ],
      "execution_count": 0,
      "outputs": [
        {
          "output_type": "stream",
          "text": [
            "[[1 2 3]\n",
            " [4 5 6]\n",
            " [7 8 9]]\n"
          ],
          "name": "stdout"
        },
        {
          "output_type": "execute_result",
          "data": {
            "text/plain": [
              "array([[-1.54919334, -1.161895  , -0.77459667],\n",
              "       [-0.38729833,  0.        ,  0.38729833],\n",
              "       [ 0.77459667,  1.161895  ,  1.54919334]])"
            ]
          },
          "metadata": {
            "tags": []
          },
          "execution_count": 7
        }
      ]
    },
    {
      "cell_type": "code",
      "metadata": {
        "id": "tJ7LAb5CzAoM",
        "colab_type": "code",
        "colab": {}
      },
      "source": [
        ""
      ],
      "execution_count": 0,
      "outputs": []
    },
    {
      "cell_type": "markdown",
      "metadata": {
        "id": "RZ-Hooxgzfku",
        "colab_type": "text"
      },
      "source": [
        "Explanation about what is happening on page 7\n",
        "\n",
        "It explains the way how to add different dimensional arrays. for instance , we can add only same dimentional array. We cannot add 3 dimentinal with another 1dimentinal array. To add, 1d array with 3d, we must need to convert 1d array to 3d array. In the first picture it adds 3d array with another 3d array, In the second picture it adds 3d array with 1d array after that it convertng the 1d arry in to the 3d array. In the third picture, both were 1d array and so it converted both into 3d array first. finally, the output is same 3d array.\n"
      ]
    }
  ]
}
